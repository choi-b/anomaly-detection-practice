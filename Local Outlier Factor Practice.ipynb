{
 "cells": [
  {
   "cell_type": "markdown",
   "metadata": {},
   "source": [
    "# Local Outlier Factor (LOF)\n",
    "* A Semi-supervised ML algorithm that uses the density of data points in the distribution as a key factor to detect outliers\n",
    "* LOF **compares the density of any given data point to the density of its neighbors**\n",
    "    * Idea: **Since outliers come from low-density areas, the ratio will be higher for anomalous data points**\n",
    "    * Rule of Thumb: A normal point has a LOF between 1 and 1.5. Anomalous points ~ much higher LOF\n",
    "* Local Outlier Factor takes the density of data points into consideration to decide if a point is an anomaly or not\n",
    "    * Measures the LOCAL DEVIATION OF THE DENSITY of a given sample with respect to its neighbors.\n",
    "    * Computes an anomaly score that measures how isolated the point is with respect to the surrounding neighborhood\n",
    "    * Takes into account the local as well as the global density to compute the anomaly score\n",
    "* In mathematical terms: \n",
    "    * Formula for LOF:\n",
    "        * **LOF(X)=[(LRD(1st neighbor) + LRD(2nd neighbor ) + .................+ LRD(kth neighbor))/LRD(X)]/k**\n",
    "        * Where LRD: Local Reachability Distance\n",
    "            * LRD(X) = 1/(sum of Reachability Distance (X, n))/k) where n is neighbors upto k"
   ]
  },
  {
   "cell_type": "markdown",
   "metadata": {},
   "source": [
    "#### Components to the LOF Algorithm\n",
    "* Hyperparameter *k* : determines the number of neighbors\n",
    "* Reachability distance: distances measured using 3 methods - Euclid, Minkowski, Manhattan\n",
    "* Local reachability distance: (LRD) (X) = 1/(Sum of Reachability Distance (X, n))/k), where n is neighbors up to k\n",
    "* Local Outlier Factor (LOF)"
   ]
  },
  {
   "cell_type": "markdown",
   "metadata": {},
   "source": [
    "### Reference: [An article in Towardsdatascience](https://towardsdatascience.com/anomaly-detection-with-local-outlier-factor-lof-d91e41df10f2)"
   ]
  },
  {
   "cell_type": "code",
   "execution_count": 1,
   "metadata": {},
   "outputs": [],
   "source": [
    "# data preparation\n",
    "import pandas as pd\n",
    "import numpy as np\n",
    "\n",
    "# data visualzation\n",
    "import matplotlib.pyplot as plt\n",
    "import seaborn as sns\n",
    "\n",
    "# outlier/anomaly detection\n",
    "from sklearn.neighbors import LocalOutlierFactor\n",
    "import os\n",
    "import warnings  \n",
    "warnings.filterwarnings('ignore')"
   ]
  },
  {
   "cell_type": "markdown",
   "metadata": {},
   "source": [
    "#### For demonstration purposes: create sample data with 5 data points"
   ]
  },
  {
   "cell_type": "code",
   "execution_count": 2,
   "metadata": {},
   "outputs": [],
   "source": [
    "df = pd.DataFrame(np.array([[0,1], [1,1], [1,2], [2,2], [5,6]]), columns = [\"x\", \"y\"], index = [0,1,2,3,4])"
   ]
  },
  {
   "cell_type": "code",
   "execution_count": 3,
   "metadata": {},
   "outputs": [
    {
     "data": {
      "image/png": "[encoded data removed]",
      "text/plain": [
       "<Figure size 432x288 with 1 Axes>"
      ]
     },
     "metadata": {
      "needs_background": "light"
     },
     "output_type": "display_data"
    }
   ],
   "source": [
    "# plot data points\n",
    "plt.scatter(df[\"x\"], df[\"y\"], color = \"b\", s = 65)\n",
    "plt.grid()"
   ]
  },
  {
   "cell_type": "markdown",
   "metadata": {},
   "source": [
    "#### Try to see if our algorithm can detect the (somewhat obvious) outlier"
   ]
  },
  {
   "cell_type": "code",
   "execution_count": null,
   "metadata": {},
   "outputs": [],
   "source": [
    "# model specification\n",
    "model1 = LocalOutlierFactor(n_neighbors = 2, metric = \"manhattan\", contamination = 0.02)\n",
    "\n",
    "# model fitting\n",
    "y_pred = model1.fit_predict(df)\n",
    "\n",
    "# filter outlier index\n",
    "outlier_index = where(y_pred == -1) # negative values are outliers and positives inliers\n",
    "\n",
    "# filter outlier values\n",
    "outlier_values = df.iloc[outlier_index\n",
    "                         \n",
    "# plot data\n",
    "plt.scatter(df[\"x\"], df[\"y\"], color = \"b\", s = 65)\n",
    "                         \n",
    "# plot outlier values\n",
    "plt.scatter(outlier_values[\"x\"], outlier_values[\"y\"], color = \"r\")"
   ]
  },
  {
   "cell_type": "markdown",
   "metadata": {},
   "source": [
    "## Next step: Try it with another, multidimensional dataset"
   ]
  },
  {
   "cell_type": "code",
   "execution_count": null,
   "metadata": {},
   "outputs": [],
   "source": []
  },
  {
   "cell_type": "code",
   "execution_count": null,
   "metadata": {},
   "outputs": [],
   "source": []
  },
  {
   "cell_type": "code",
   "execution_count": null,
   "metadata": {},
   "outputs": [],
   "source": []
  },
  {
   "cell_type": "code",
   "execution_count": null,
   "metadata": {},
   "outputs": [],
   "source": []
  },
  {
   "cell_type": "code",
   "execution_count": null,
   "metadata": {},
   "outputs": [],
   "source": []
  },
  {
   "cell_type": "code",
   "execution_count": null,
   "metadata": {},
   "outputs": [],
   "source": []
  },
  {
   "cell_type": "code",
   "execution_count": null,
   "metadata": {},
   "outputs": [],
   "source": []
  }
 ],
 "metadata": {
  "kernelspec": {
   "display_name": "Python 3",
   "language": "python",
   "name": "python3"
  },
  "language_info": {
   "codemirror_mode": {
    "name": "ipython",
    "version": 3
   },
   "file_extension": ".py",
   "mimetype": "text/x-python",
   "name": "python",
   "nbconvert_exporter": "python",
   "pygments_lexer": "ipython3",
   "version": "3.8.3"
  }
 },
 "nbformat": 4,
 "nbformat_minor": 4
}
